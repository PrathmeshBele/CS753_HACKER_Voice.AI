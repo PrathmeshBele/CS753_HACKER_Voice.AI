{
  "nbformat": 4,
  "nbformat_minor": 0,
  "metadata": {
    "colab": {
      "name": "cs753.ipynb",
      "provenance": [],
      "collapsed_sections": []
    },
    "kernelspec": {
      "name": "python3",
      "display_name": "Python 3"
    },
    "language_info": {
      "name": "python"
    },
    "accelerator": "GPU"
  },
  "cells": [
    {
      "cell_type": "code",
      "source": [
        "from google.colab import drive\n",
        "drive.mount('/content/drive')"
      ],
      "metadata": {
        "colab": {
          "base_uri": "https://localhost:8080/"
        },
        "id": "eU1F0HN3hzMS",
        "outputId": "f6582328-2b6b-465d-b396-c38f29abfcd5"
      },
      "execution_count": null,
      "outputs": [
        {
          "output_type": "stream",
          "name": "stdout",
          "text": [
            "Mounted at /content/drive\n"
          ]
        }
      ]
    },
    {
      "cell_type": "code",
      "source": [
        "cd drive/MyDrive"
      ],
      "metadata": {
        "colab": {
          "base_uri": "https://localhost:8080/"
        },
        "id": "SzDXDijPh8XE",
        "outputId": "569270b1-be4e-402e-e7de-f03846160fb8"
      },
      "execution_count": null,
      "outputs": [
        {
          "output_type": "stream",
          "name": "stdout",
          "text": [
            "/content/drive/MyDrive\n"
          ]
        }
      ]
    },
    {
      "cell_type": "code",
      "source": [
        "cd 753_hacker"
      ],
      "metadata": {
        "colab": {
          "base_uri": "https://localhost:8080/"
        },
        "id": "xtAGU40eh-cC",
        "outputId": "2559d785-65f6-4fe5-cfd8-134de7faa399"
      },
      "execution_count": null,
      "outputs": [
        {
          "output_type": "stream",
          "name": "stdout",
          "text": [
            "/content/drive/MyDrive/753_hacker\n"
          ]
        }
      ]
    },
    {
      "cell_type": "code",
      "source": [
        "!python train_speech_embedder.py"
      ],
      "metadata": {
        "id": "r3HUgksIikyV",
        "colab": {
          "base_uri": "https://localhost:8080/"
        },
        "outputId": "6a3f3235-d27b-4cff-9300-362667aabf4a"
      },
      "execution_count": null,
      "outputs": [
        {
          "output_type": "stream",
          "name": "stdout",
          "text": [
            "epoch done0\n",
            "epoch done1\n",
            "epoch done2\n",
            "epoch done3\n",
            "epoch done4\n",
            "epoch done5\n",
            "epoch done6\n",
            "epoch done7\n",
            "epoch done8\n",
            "epoch done9\n",
            "epoch done10\n",
            "epoch done11\n",
            "epoch done12\n",
            "epoch done13\n",
            "epoch done14\n",
            "epoch done15\n",
            "epoch done16\n",
            "epoch done17\n",
            "epoch done18\n",
            "epoch done19\n",
            "epoch done20\n",
            "epoch done21\n",
            "epoch done22\n",
            "epoch done23\n",
            "epoch done24\n",
            "epoch done25\n",
            "epoch done26\n",
            "epoch done27\n",
            "epoch done28\n",
            "epoch done29\n",
            "epoch done30\n",
            "epoch done31\n",
            "epoch done32\n",
            "epoch done33\n",
            "epoch done34\n",
            "epoch done35\n",
            "epoch done36\n",
            "epoch done37\n",
            "epoch done38\n",
            "epoch done39\n",
            "epoch done40\n",
            "epoch done41\n",
            "epoch done42\n",
            "epoch done43\n",
            "epoch done44\n",
            "epoch done45\n",
            "epoch done46\n",
            "epoch done47\n",
            "epoch done48\n",
            "epoch done49\n",
            "epoch done50\n",
            "epoch done51\n",
            "epoch done52\n",
            "epoch done53\n",
            "epoch done54\n",
            "epoch done55\n",
            "epoch done56\n",
            "epoch done57\n",
            "epoch done58\n",
            "epoch done59\n",
            "epoch done60\n",
            "epoch done61\n",
            "epoch done62\n",
            "epoch done63\n",
            "epoch done64\n",
            "epoch done65\n",
            "epoch done66\n",
            "epoch done67\n",
            "epoch done68\n",
            "epoch done69\n",
            "epoch done70\n",
            "epoch done71\n",
            "epoch done72\n",
            "epoch done73\n",
            "epoch done74\n",
            "epoch done75\n",
            "epoch done76\n",
            "epoch done77\n",
            "epoch done78\n",
            "epoch done79\n",
            "epoch done80\n",
            "epoch done81\n",
            "epoch done82\n",
            "epoch done83\n",
            "epoch done84\n",
            "epoch done85\n",
            "epoch done86\n",
            "epoch done87\n",
            "epoch done88\n",
            "epoch done89\n",
            "epoch done90\n",
            "epoch done91\n",
            "epoch done92\n",
            "epoch done93\n",
            "epoch done94\n",
            "epoch done95\n",
            "epoch done96\n",
            "epoch done97\n",
            "epoch done98\n",
            "epoch done99\n",
            "epoch done100\n",
            "epoch done101\n",
            "epoch done102\n",
            "epoch done103\n",
            "epoch done104\n",
            "epoch done105\n",
            "epoch done106\n",
            "epoch done107\n",
            "epoch done108\n",
            "epoch done109\n",
            "epoch done110\n",
            "epoch done111\n",
            "epoch done112\n",
            "epoch done113\n",
            "epoch done114\n",
            "epoch done115\n",
            "epoch done116\n",
            "epoch done117\n",
            "epoch done118\n",
            "epoch done119\n",
            "epoch done120\n",
            "epoch done121\n",
            "epoch done122\n",
            "epoch done123\n",
            "epoch done124\n",
            "epoch done125\n",
            "epoch done126\n",
            "epoch done127\n",
            "epoch done128\n",
            "epoch done129\n",
            "epoch done130\n",
            "epoch done131\n",
            "epoch done132\n",
            "epoch done133\n",
            "epoch done134\n",
            "epoch done135\n",
            "epoch done136\n",
            "epoch done137\n",
            "epoch done138\n",
            "epoch done139\n",
            "epoch done140\n",
            "epoch done141\n",
            "epoch done142\n",
            "epoch done143\n",
            "epoch done144\n",
            "epoch done145\n",
            "epoch done146\n",
            "epoch done147\n",
            "epoch done148\n",
            "epoch done149\n",
            "epoch done150\n",
            "epoch done151\n",
            "epoch done152\n",
            "epoch done153\n",
            "epoch done154\n",
            "epoch done155\n",
            "epoch done156\n",
            "epoch done157\n",
            "epoch done158\n",
            "epoch done159\n",
            "epoch done160\n",
            "epoch done161\n",
            "epoch done162\n",
            "epoch done163\n",
            "epoch done164\n",
            "epoch done165\n",
            "epoch done166\n",
            "epoch done167\n",
            "epoch done168\n",
            "epoch done169\n",
            "epoch done170\n",
            "epoch done171\n",
            "epoch done172\n",
            "epoch done173\n",
            "epoch done174\n",
            "epoch done175\n",
            "epoch done176\n",
            "epoch done177\n",
            "epoch done178\n",
            "epoch done179\n",
            "epoch done180\n",
            "epoch done181\n",
            "epoch done182\n",
            "epoch done183\n",
            "epoch done184\n",
            "epoch done185\n",
            "epoch done186\n",
            "epoch done187\n",
            "epoch done188\n",
            "epoch done189\n",
            "epoch done190\n",
            "epoch done191\n",
            "epoch done192\n",
            "epoch done193\n",
            "epoch done194\n",
            "epoch done195\n",
            "epoch done196\n",
            "epoch done197\n",
            "epoch done198\n",
            "epoch done199\n",
            "epoch done200\n",
            "epoch done201\n",
            "epoch done202\n",
            "epoch done203\n",
            "epoch done204\n",
            "epoch done205\n",
            "epoch done206\n",
            "epoch done207\n",
            "epoch done208\n",
            "epoch done209\n",
            "epoch done210\n",
            "epoch done211\n",
            "epoch done212\n",
            "epoch done213\n",
            "epoch done214\n",
            "epoch done215\n",
            "epoch done216\n",
            "epoch done217\n",
            "epoch done218\n",
            "epoch done219\n",
            "epoch done220\n",
            "epoch done221\n",
            "epoch done222\n",
            "epoch done223\n",
            "epoch done224\n",
            "epoch done225\n",
            "epoch done226\n",
            "epoch done227\n",
            "epoch done228\n",
            "epoch done229\n",
            "epoch done230\n",
            "epoch done231\n",
            "epoch done232\n",
            "epoch done233\n",
            "epoch done234\n",
            "epoch done235\n",
            "epoch done236\n",
            "epoch done237\n",
            "epoch done238\n",
            "epoch done239\n",
            "epoch done240\n",
            "epoch done241\n",
            "epoch done242\n",
            "epoch done243\n",
            "epoch done244\n",
            "epoch done245\n",
            "epoch done246\n",
            "epoch done247\n",
            "epoch done248\n",
            "epoch done249\n",
            "\n",
            "Done, trained model saved at ./speech_id_checkpoint/final_epoch_250_batch_id_5.model\n"
          ]
        }
      ]
    },
    {
      "cell_type": "code",
      "source": [
        "!python train_speech_embedder.py"
      ],
      "metadata": {
        "colab": {
          "base_uri": "https://localhost:8080/"
        },
        "id": "O24J9pUZVOgp",
        "outputId": "f5a3f405-2e73-423e-822f-13087f5f3b46"
      },
      "execution_count": null,
      "outputs": [
        {
          "output_type": "stream",
          "name": "stdout",
          "text": [
            "/usr/local/lib/python3.7/dist-packages/torch/utils/data/dataloader.py:490: UserWarning: This DataLoader will create 8 worker processes in total. Our suggested max number of worker in current system is 2, which is smaller than what this DataLoader is going to create. Please be aware that excessive worker creation might get DataLoader running slow or even freeze, lower the worker number to avoid potential slowness/freeze if necessary.\n",
            "  cpuset_checked))\n",
            "\n",
            "EER : 0.19 (thres:0.77, FAR:0.19, FRR:0.18)\n",
            "\n",
            "EER : 0.18 (thres:0.78, FAR:0.19, FRR:0.18)\n",
            "\n",
            "EER : 0.17 (thres:0.76, FAR:0.17, FRR:0.16)\n",
            "\n",
            "EER : 0.16 (thres:0.80, FAR:0.15, FRR:0.17)\n",
            "\n",
            "EER : 0.13 (thres:0.77, FAR:0.13, FRR:0.12)\n",
            "\n",
            "EER : 0.16 (thres:0.74, FAR:0.16, FRR:0.15)\n",
            "\n",
            "EER : 0.18 (thres:0.77, FAR:0.18, FRR:0.17)\n",
            "\n",
            "EER : 0.13 (thres:0.78, FAR:0.12, FRR:0.13)\n",
            "\n",
            "EER : 0.16 (thres:0.77, FAR:0.16, FRR:0.16)\n",
            "\n",
            "EER : 0.16 (thres:0.77, FAR:0.16, FRR:0.16)\n",
            "\n",
            " EER across 10 epochs: 0.1606\n"
          ]
        }
      ]
    }
  ]
}